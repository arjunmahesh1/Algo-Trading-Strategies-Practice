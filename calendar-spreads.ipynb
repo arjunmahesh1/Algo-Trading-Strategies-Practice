{
 "cells": [
  {
   "cell_type": "markdown",
   "metadata": {},
   "source": [
    "# Mean Reversion Trading of Calendar Spreads"
   ]
  },
  {
   "cell_type": "markdown",
   "metadata": {},
   "source": [
    "## Imports"
   ]
  },
  {
   "cell_type": "code",
   "execution_count": 1,
   "metadata": {},
   "outputs": [],
   "source": [
    "import pandas as pd\n",
    "import numpy as np\n",
    "from statsmodels.api import OLS\n",
    "import statsmodels.api as sm"
   ]
  },
  {
   "cell_type": "markdown",
   "metadata": {},
   "source": [
    "## Load Data"
   ]
  },
  {
   "cell_type": "code",
   "execution_count": 2,
   "metadata": {},
   "outputs": [],
   "source": [
    "F_CLdf = pd.read_csv('data/F_CL_history.csv', skiprows=1)\n",
    "F_CLdf.columns = ['Date', 'Price', 'Open', 'High', 'Low', 'Vol', 'Change %']\n",
    "F_CLdf['Date'] = pd.to_datetime(F_CLdf['Date'], errors='coerce')\n",
    "F_CLdf['Price'] = pd.to_numeric(F_CLdf['Price'], errors='coerce')"
   ]
  },
  {
   "cell_type": "markdown",
   "metadata": {},
   "source": [
    "## Logic"
   ]
  },
  {
   "cell_type": "code",
   "execution_count": 3,
   "metadata": {},
   "outputs": [],
   "source": [
    "contracts = [F_CLdf[i:i+252] for i in range(0, len(F_CLdf), 252)]\n",
    "\n",
    "positions = np.zeros_like(F_CLdf['Price'])\n",
    "spreadMonth = 12\n",
    "holddays = 3*21\n",
    "numDaysStart = holddays + 10\n",
    "numDaysEnd = 10\n",
    "\n",
    "for i in range(len(contracts) - spreadMonth):\n",
    "    near_contract = contracts[i]\n",
    "    far_contract = contracts[i + spreadMonth]\n",
    "    \n",
    "    # Dummy expiration date as the last date of the contract data\n",
    "    expiration_date = near_contract['Date'].iloc[-1]\n",
    "    \n",
    "    log_spread = np.log(far_contract['Price']) - np.log(near_contract['Price'])\n",
    "    gamma = log_spread  \n",
    "\n",
    "    gamma_lagged = gamma.shift(1).dropna()\n",
    "    delta_gamma = gamma - gamma_lagged\n",
    "    regress_results = OLS(delta_gamma[1:], sm.add_constant(gamma_lagged)).fit()\n",
    "    halflife = -np.log(2) / regress_results.params[0]\n",
    "\n",
    "    lookback = round(halflife)\n",
    "    ma = gamma.rolling(lookback).mean()\n",
    "    mstd = gamma.rolling(lookback).std()\n",
    "    z_score = (gamma - ma) / mstd\n",
    "    \n",
    "    start_idx = max(0, (expiration_date - F_CLdf['Date'][0]).days - numDaysStart)\n",
    "    end_idx = (expiration_date - F_CLdf['Date'][0]).days - numDaysEnd\n",
    "    positions[start_idx:end_idx] = np.where(z_score[start_idx:end_idx] > 0, -1, 1)\n",
    "\n",
    "    if i >= len(contracts) - spreadMonth - 5:  # For the last 5 iterations\n",
    "        print(\"Gamma:\\n\", gamma.tail())\n",
    "        print(\"MA:\\n\", ma.tail())\n",
    "        print(\"MSTD:\\n\", mstd.tail())\n",
    "        print(\"Z-Score:\\n\", z_score.tail())\n",
    "        print(\"Start and End Indices:\", start_idx, end_idx)"
   ]
  },
  {
   "cell_type": "markdown",
   "metadata": {},
   "source": [
    "## Returns and Statistics"
   ]
  },
  {
   "cell_type": "code",
   "execution_count": 4,
   "metadata": {},
   "outputs": [
    {
     "name": "stdout",
     "output_type": "stream",
     "text": [
      "APR: 0.00%\n",
      "Sharpe Ratio: -inf\n",
      "Last Cumulative Return: 0.0000\n",
      "Number of Non-Zero Strategy Returns: 1\n",
      "Number of NaN in Strategy Returns: 1\n",
      "Volatility: 0.0000\n"
     ]
    },
    {
     "name": "stderr",
     "output_type": "stream",
     "text": [
      "C:\\Users\\Arjun\\AppData\\Local\\Temp\\ipykernel_26072\\1700089478.py:14: RuntimeWarning: divide by zero encountered in scalar divide\n",
      "  sharpe_ratio = (mean_return - risk_free_rate) / volatility\n"
     ]
    }
   ],
   "source": [
    "positions_shifted = np.roll(positions, 1, axis=0)\n",
    "positions_shifted[0] = 0 \n",
    "\n",
    "F_CLdf['Returns'] = F_CLdf['Price'].pct_change()\n",
    "strategy_returns = F_CLdf['Returns'] * positions_shifted\n",
    "cumulative_returns = (1 + strategy_returns).cumprod() - 1\n",
    "\n",
    "APR = (cumulative_returns.iloc[-1] + 1)**(252 / len(cumulative_returns)) - 1\n",
    "print(f\"APR: {APR*100:.2f}%\")\n",
    "\n",
    "risk_free_rate = 0.053\n",
    "mean_return = strategy_returns.mean() * 252\n",
    "volatility = strategy_returns.std() * np.sqrt(252)\n",
    "sharpe_ratio = (mean_return - risk_free_rate) / volatility\n",
    "print(f\"Sharpe Ratio: {sharpe_ratio:.2f}\")\n",
    "\n",
    "print(f\"Last Cumulative Return: {cumulative_returns.iloc[-1]:.4f}\")\n",
    "print(f\"Number of Non-Zero Strategy Returns: {(strategy_returns != 0).sum()}\")\n",
    "print(f\"Number of NaN in Strategy Returns: {strategy_returns.isna().sum()}\")\n",
    "print(f\"Volatility: {volatility:.4f}\")\n"
   ]
  },
  {
   "cell_type": "markdown",
   "metadata": {},
   "source": []
  }
 ],
 "metadata": {
  "kernelspec": {
   "display_name": "base",
   "language": "python",
   "name": "python3"
  },
  "language_info": {
   "codemirror_mode": {
    "name": "ipython",
    "version": 3
   },
   "file_extension": ".py",
   "mimetype": "text/x-python",
   "name": "python",
   "nbconvert_exporter": "python",
   "pygments_lexer": "ipython3",
   "version": "3.10.8"
  },
  "orig_nbformat": 4
 },
 "nbformat": 4,
 "nbformat_minor": 2
}
