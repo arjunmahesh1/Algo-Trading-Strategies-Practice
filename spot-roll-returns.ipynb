{
 "cells": [
  {
   "cell_type": "markdown",
   "metadata": {},
   "source": [
    "# Estimating Spot and Roll Returns Using the Constant Returns Model"
   ]
  },
  {
   "cell_type": "markdown",
   "metadata": {},
   "source": [
    "## Imports"
   ]
  },
  {
   "cell_type": "code",
   "execution_count": 1,
   "metadata": {},
   "outputs": [],
   "source": [
    "import pandas as pd\n",
    "import numpy as np\n",
    "import matplotlib.pyplot as plt\n",
    "import statsmodels.api as sm"
   ]
  },
  {
   "cell_type": "markdown",
   "metadata": {},
   "source": [
    "## Load Data"
   ]
  },
  {
   "cell_type": "code",
   "execution_count": 2,
   "metadata": {},
   "outputs": [
    {
     "data": {
      "text/html": [
       "<div>\n",
       "<style scoped>\n",
       "    .dataframe tbody tr th:only-of-type {\n",
       "        vertical-align: middle;\n",
       "    }\n",
       "\n",
       "    .dataframe tbody tr th {\n",
       "        vertical-align: top;\n",
       "    }\n",
       "\n",
       "    .dataframe thead th {\n",
       "        text-align: right;\n",
       "    }\n",
       "</style>\n",
       "<table border=\"1\" class=\"dataframe\">\n",
       "  <thead>\n",
       "    <tr style=\"text-align: right;\">\n",
       "      <th></th>\n",
       "      <th>Date</th>\n",
       "      <th>Price</th>\n",
       "      <th>Open</th>\n",
       "      <th>High</th>\n",
       "      <th>Low</th>\n",
       "      <th>Vol</th>\n",
       "      <th>Change %</th>\n",
       "    </tr>\n",
       "  </thead>\n",
       "  <tbody>\n",
       "    <tr>\n",
       "      <th>0</th>\n",
       "      <td>2023-10-18</td>\n",
       "      <td>3.5870</td>\n",
       "      <td>3.5900</td>\n",
       "      <td>3.6305</td>\n",
       "      <td>3.5750</td>\n",
       "      <td>69.58K</td>\n",
       "      <td>0.24%</td>\n",
       "    </tr>\n",
       "    <tr>\n",
       "      <th>1</th>\n",
       "      <td>2023-10-17</td>\n",
       "      <td>3.5785</td>\n",
       "      <td>3.5815</td>\n",
       "      <td>3.5930</td>\n",
       "      <td>3.5315</td>\n",
       "      <td>86.04K</td>\n",
       "      <td>-0.10%</td>\n",
       "    </tr>\n",
       "    <tr>\n",
       "      <th>2</th>\n",
       "      <td>2023-10-16</td>\n",
       "      <td>3.5820</td>\n",
       "      <td>3.5705</td>\n",
       "      <td>3.6055</td>\n",
       "      <td>3.5635</td>\n",
       "      <td>57.58K</td>\n",
       "      <td>0.31%</td>\n",
       "    </tr>\n",
       "    <tr>\n",
       "      <th>3</th>\n",
       "      <td>2023-10-13</td>\n",
       "      <td>3.5710</td>\n",
       "      <td>3.5870</td>\n",
       "      <td>3.6165</td>\n",
       "      <td>3.5570</td>\n",
       "      <td>64.95K</td>\n",
       "      <td>-0.56%</td>\n",
       "    </tr>\n",
       "    <tr>\n",
       "      <th>4</th>\n",
       "      <td>2023-10-12</td>\n",
       "      <td>3.5910</td>\n",
       "      <td>3.6115</td>\n",
       "      <td>3.6485</td>\n",
       "      <td>3.5695</td>\n",
       "      <td>69.71K</td>\n",
       "      <td>-0.58%</td>\n",
       "    </tr>\n",
       "  </tbody>\n",
       "</table>\n",
       "</div>"
      ],
      "text/plain": [
       "        Date   Price    Open    High     Low     Vol Change %\n",
       "0 2023-10-18  3.5870  3.5900  3.6305  3.5750  69.58K    0.24%\n",
       "1 2023-10-17  3.5785  3.5815  3.5930  3.5315  86.04K   -0.10%\n",
       "2 2023-10-16  3.5820  3.5705  3.6055  3.5635  57.58K    0.31%\n",
       "3 2023-10-13  3.5710  3.5870  3.6165  3.5570  64.95K   -0.56%\n",
       "4 2023-10-12  3.5910  3.6115  3.6485  3.5695  69.71K   -0.58%"
      ]
     },
     "execution_count": 2,
     "metadata": {},
     "output_type": "execute_result"
    }
   ],
   "source": [
    "F_BRdf = pd.read_csv('data/F_BR_history.csv', skiprows=1)\n",
    "F_BRdf.columns = ['Date', 'Price', 'Open', 'High', 'Low', 'Vol', 'Change %']\n",
    "F_BRdf['Date'] = pd.to_datetime(F_BRdf['Date'], errors='coerce')\n",
    "F_BRdf['Price'] = pd.to_numeric(F_BRdf['Price'], errors='coerce')\n",
    "\n",
    "F_CLdf = pd.read_csv('data/F_CL_history.csv', skiprows=1)\n",
    "F_CLdf.columns = ['Date', 'Price', 'Open', 'High', 'Low', 'Vol', 'Change %']\n",
    "F_CLdf['Date'] = pd.to_datetime(F_CLdf['Date'], errors='coerce')\n",
    "F_CLdf['Price'] = pd.to_numeric(F_CLdf['Price'], errors='coerce')\n",
    "\n",
    "F_HGdf = pd.read_csv('data/F_HG_history.csv', skiprows=1)\n",
    "F_HGdf.columns = ['Date', 'Price', 'Open', 'High', 'Low', 'Vol', 'Change %']\n",
    "F_HGdf['Date'] = pd.to_datetime(F_HGdf['Date'], errors='coerce')\n",
    "F_HGdf['Price'] = pd.to_numeric(F_HGdf['Price'], errors='coerce')\n",
    "\n",
    "F_HGdf.head()\n",
    "\n",
    "F_ZCdf = pd.read_csv('data/F_ZC_history.csv', skiprows=1)\n",
    "F_ZCdf.columns = ['Date', 'Price', 'Open', 'High', 'Low', 'Vol', 'Change %']\n",
    "F_ZCdf['Date'] = pd.to_datetime(F_ZCdf['Date'], errors='coerce')\n",
    "F_ZCdf['Price'] = pd.to_numeric(F_ZCdf['Price'], errors='coerce')\n",
    "\n",
    "F_HGdf.head()"
   ]
  },
  {
   "cell_type": "markdown",
   "metadata": {},
   "source": [
    "## Spot Returns Estimation"
   ]
  },
  {
   "cell_type": "code",
   "execution_count": 3,
   "metadata": {},
   "outputs": [],
   "source": [
    "def estimate_spot_return(spot_prices):\n",
    "    T = np.arange(len(spot_prices))\n",
    "    T = sm.add_constant(T)\n",
    "    model = sm.OLS(np.log(spot_prices), T)\n",
    "    results = model.fit()\n",
    "    return 252 * results.params[1]\n"
   ]
  },
  {
   "cell_type": "markdown",
   "metadata": {},
   "source": [
    "## Roll Returns Estimation"
   ]
  },
  {
   "cell_type": "code",
   "execution_count": 4,
   "metadata": {},
   "outputs": [],
   "source": [
    "def estimate_roll_return(futures_data):\n",
    "    gamma = []\n",
    "    for t in range(len(futures_data)):\n",
    "        FT = futures_data.iloc[t]\n",
    "        valid_indices = np.where(~np.isnan(FT))[0]\n",
    "        consecutive_check = np.diff(valid_indices) == 1\n",
    "        \n",
    "        if len(valid_indices) >= 5 and all(consecutive_check[:4]):  \n",
    "            FT_subset = FT[valid_indices[:5]].values\n",
    "            T_subset = np.arange(len(FT_subset)).reshape(-1, 1)\n",
    "            T_subset = sm.add_constant(T_subset)\n",
    "            model = sm.OLS(np.log(FT_subset), T_subset)\n",
    "            results = model.fit()\n",
    "            gamma.append(-12 * results.params[1])\n",
    "        else:\n",
    "            gamma.append(np.nan)\n",
    "    return np.nanmean(gamma)"
   ]
  }
 ],
 "metadata": {
  "kernelspec": {
   "display_name": "base",
   "language": "python",
   "name": "python3"
  },
  "language_info": {
   "codemirror_mode": {
    "name": "ipython",
    "version": 3
   },
   "file_extension": ".py",
   "mimetype": "text/x-python",
   "name": "python",
   "nbconvert_exporter": "python",
   "pygments_lexer": "ipython3",
   "version": "3.10.8"
  },
  "orig_nbformat": 4
 },
 "nbformat": 4,
 "nbformat_minor": 2
}
